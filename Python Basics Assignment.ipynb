{
  "nbformat": 4,
  "nbformat_minor": 0,
  "metadata": {
    "colab": {
      "provenance": [],
      "authorship_tag": "ABX9TyO838dht2haK/+8587lEOGp",
      "include_colab_link": true
    },
    "kernelspec": {
      "name": "python3",
      "display_name": "Python 3"
    },
    "language_info": {
      "name": "python"
    }
  },
  "cells": [
    {
      "cell_type": "markdown",
      "metadata": {
        "id": "view-in-github",
        "colab_type": "text"
      },
      "source": [
        "<a href=\"https://colab.research.google.com/github/SachinSaiTej/full-stack-data_science_pro/blob/main/Python%20Basics%20Assignment.ipynb\" target=\"_parent\"><img src=\"https://colab.research.google.com/assets/colab-badge.svg\" alt=\"Open In Colab\"/></a>"
      ]
    },
    {
      "cell_type": "code",
      "execution_count": 3,
      "metadata": {
        "colab": {
          "base_uri": "https://localhost:8080/"
        },
        "id": "D5LICIfD04yp",
        "outputId": "317aec96-2288-4545-fb2b-9a91f5c604fb"
      },
      "outputs": [
        {
          "output_type": "stream",
          "name": "stdout",
          "text": [
            "x:20, y:10\n"
          ]
        }
      ],
      "source": [
        "#Basic variables 1.\n",
        "x = 10\n",
        "y = 20\n",
        "x,y = y, x\n",
        "print(f'x:{x}, y:{y}')"
      ]
    },
    {
      "cell_type": "code",
      "source": [
        "#Basic variables 2.\n",
        "\n",
        "length = float(input(\"Enter the length of the rectangle: \"))\n",
        "width = float(input(\"Enter the width of the rectangle: \"))\n",
        "\n",
        "area = length * width\n",
        "\n",
        "print(f\"The area of the rectangle with length {length} and width {width} is: {area}\")\n"
      ],
      "metadata": {
        "colab": {
          "base_uri": "https://localhost:8080/"
        },
        "id": "xedwFOwA623_",
        "outputId": "91f6d281-31f6-4b42-aab1-c45d037be966"
      },
      "execution_count": 4,
      "outputs": [
        {
          "output_type": "stream",
          "name": "stdout",
          "text": [
            "Enter the length of the rectangle: 10\n",
            "Enter the width of the rectangle: 10.5\n",
            "The area of the rectangle with length 10.0 and width 10.5 is: 105.0\n"
          ]
        }
      ]
    },
    {
      "cell_type": "code",
      "source": [
        "#Basic variables 3.\n",
        "celsius = float(input(\"Enter the temperature in Celsius: \"))\n",
        "\n",
        "fahrenheit = (celsius * 9/5) + 32\n",
        "\n",
        "print(f\"{celsius} degrees Celsius is equivalent to {fahrenheit} degrees Fahrenheit.\")\n"
      ],
      "metadata": {
        "colab": {
          "base_uri": "https://localhost:8080/"
        },
        "id": "_QFbcNCl7crD",
        "outputId": "794ac092-67d7-45d0-cdbb-80aafb7fed1a"
      },
      "execution_count": 5,
      "outputs": [
        {
          "output_type": "stream",
          "name": "stdout",
          "text": [
            "Enter the temperature in Celsius: 37\n",
            "37.0 degrees Celsius is equivalent to 98.6 degrees Fahrenheit.\n"
          ]
        }
      ]
    },
    {
      "cell_type": "code",
      "source": [
        "#String based questions 1.\n",
        "strInput = input(\"Enter a string: \")\n",
        "print(len(strInput))"
      ],
      "metadata": {
        "colab": {
          "base_uri": "https://localhost:8080/"
        },
        "id": "pc_nXBHX_ap-",
        "outputId": "20793c74-1b19-47b3-dfa3-e169107dc922"
      },
      "execution_count": 1,
      "outputs": [
        {
          "output_type": "stream",
          "name": "stdout",
          "text": [
            "Enter a string: Hello World!\n",
            "12\n"
          ]
        }
      ]
    },
    {
      "cell_type": "code",
      "source": [
        "#String based questions 2.\n",
        "strInput = input(\"Enter a sentence: \")\n",
        "count = 0\n",
        "for i in strInput:\n",
        "  if i in 'aeiou':\n",
        "    count += 1\n",
        "print(f\"Number of vowels in the sentence are {count}\")"
      ],
      "metadata": {
        "colab": {
          "base_uri": "https://localhost:8080/"
        },
        "id": "w4eQqGAk_jxV",
        "outputId": "8ed5eb95-6af4-4882-d995-1e521c7f3bc1"
      },
      "execution_count": 5,
      "outputs": [
        {
          "output_type": "stream",
          "name": "stdout",
          "text": [
            "Enter a sentence: Test sentence for the count of vowels.\n",
            "Number of vowels in the sentence are 11\n"
          ]
        }
      ]
    },
    {
      "cell_type": "code",
      "source": [
        "#String based questions 3.\n",
        "strInput = input(\"Enter a string: \")\n",
        "print(f\"Reversed string is : {strInput[::-1]}\")"
      ],
      "metadata": {
        "colab": {
          "base_uri": "https://localhost:8080/"
        },
        "id": "DCKYGp_M_jZM",
        "outputId": "3f53ff1c-e0a4-4c33-9a84-7f761dc117a5"
      },
      "execution_count": 6,
      "outputs": [
        {
          "output_type": "stream",
          "name": "stdout",
          "text": [
            "Enter a string: Hello\n",
            "Reversed string is : olleH\n"
          ]
        }
      ]
    },
    {
      "cell_type": "code",
      "source": [
        "#String based questions 4.\n",
        "strInput = input(\"Enter a string: \")\n",
        "print(f\"Palindrome : {strInput == strInput[::-1]}\")"
      ],
      "metadata": {
        "colab": {
          "base_uri": "https://localhost:8080/"
        },
        "id": "ii-Un5J8_jJZ",
        "outputId": "2a680462-e816-4a5d-fc10-864632e4fb0c"
      },
      "execution_count": 7,
      "outputs": [
        {
          "output_type": "stream",
          "name": "stdout",
          "text": [
            "Enter a string: abba\n",
            "Palindrome : True\n"
          ]
        }
      ]
    },
    {
      "cell_type": "code",
      "source": [
        "#String based questions 5.\n",
        "strInput = input(\"Enter a string: \").split(\" \")\n",
        "print(\"\".join(strInput))"
      ],
      "metadata": {
        "colab": {
          "base_uri": "https://localhost:8080/"
        },
        "id": "sRFsiJgL_i4z",
        "outputId": "5e86ab7a-aae4-4605-b33b-3fbb6188c7b2"
      },
      "execution_count": 11,
      "outputs": [
        {
          "output_type": "stream",
          "name": "stdout",
          "text": [
            "Enter a string: abcd ef gh ijk lm n\n",
            "abcdefghijklmn\n"
          ]
        }
      ]
    }
  ]
}